{
 "cells": [
  {
   "cell_type": "markdown",
   "metadata": {
    "id": "0ydHz8RkHp2k"
   },
   "source": [
    "Данные взяты из [источника](https://networkrepository.com/networks.php). Описывают связи в мозге у мыши "
   ]
  },
  {
   "cell_type": "code",
   "execution_count": 3,
   "metadata": {
    "id": "sT2KdWH6Yisl"
   },
   "outputs": [],
   "source": [
    "import numpy as np\n",
    "import matplotlib.pyplot as plt\n",
    "import networkx as nx\n",
    "import pandas as pd\n",
    "import random\n",
    "from collections import Counter\n",
    "import powerlaw\n",
    "%matplotlib inline"
   ]
  },
  {
   "cell_type": "code",
   "execution_count": 4,
   "metadata": {
    "id": "ojgtLfbKYism",
    "outputId": "4bca6ff3-d944-4e36-b54e-e2684621c15b"
   },
   "outputs": [
    {
     "name": "stdout",
     "output_type": "stream",
     "text": [
      "Nodes: 213\n",
      "Edges: 16242\n",
      "Density: 0.7193728408184958\n"
     ]
    }
   ],
   "source": [
    "G = nx.read_weighted_edgelist('bn-mouse_brain_1.edges', delimiter=' ')\n",
    "print('Nodes:',G.number_of_nodes()) \n",
    "print('Edges:',G.number_of_edges())\n",
    "print('Density:',nx.density(G)) "
   ]
  },
  {
   "cell_type": "markdown",
   "metadata": {
    "id": "jrm5HstdHezN"
   },
   "source": [
    "\n",
    "*  Распределение коэффициента кластеризации и его значения. Вершины с нулевой кластеризацией и с единичной\n",
    "\n",
    "*  Коэффициент корреляции Пирсона степени и коэффициент кластеризации вершин;\n",
    "\n",
    "*  Число компонет связности и распределение размера компонент связности\n",
    "\n",
    "* Локальная эффективность максимальной компоненты на устойчивость.\n"
   ]
  },
  {
   "cell_type": "code",
   "execution_count": 5,
   "metadata": {
    "id": "4HbocDrGHfmS"
   },
   "outputs": [],
   "source": [
    "nodes = [node for (node, d) in G.degree()]\n",
    "degrees = [d for (node, d) in G.degree()]"
   ]
  },
  {
   "cell_type": "code",
   "execution_count": 6,
   "metadata": {
    "id": "ly8B0xL6Yisp",
    "outputId": "75394b95-9a9a-4ee3-fb0b-95f49a628925"
   },
   "outputs": [
    {
     "data": {
      "text/plain": [
       "{'0': 0.7739514348785872,\n",
       " '7': 0.746749226006192,\n",
       " '11': 0.7897980592709153,\n",
       " '13': 0.7699281370923162,\n",
       " '14': 0.7575730092508616,\n",
       " '15': 0.7895949058393171,\n",
       " '26': 0.7751566040250566,\n",
       " '28': 0.7354744702811001,\n",
       " '31': 0.7312987012987013,\n",
       " '32': 0.7793548387096774,\n",
       " '38': 0.7460387002555677,\n",
       " '43': 0.7483905173066727,\n",
       " '44': 0.7431565440547476,\n",
       " '48': 0.7554347826086957,\n",
       " '55': 0.7319480519480519,\n",
       " '61': 0.7355169179712864,\n",
       " '63': 0.7782143341010703,\n",
       " '64': 0.7322283609576428,\n",
       " '71': 0.7548284480799818,\n",
       " '72': 0.7526404902039829,\n",
       " '74': 0.7273996721510534,\n",
       " '75': 0.7625950782997762,\n",
       " '81': 0.7621348056130665,\n",
       " '83': 0.7878787878787878,\n",
       " '86': 0.7251688152240638,\n",
       " '88': 0.760636645962733,\n",
       " '89': 0.8055019305019305,\n",
       " '90': 0.76751677852349,\n",
       " '93': 0.7490123357252277,\n",
       " '99': 0.7772319319792159,\n",
       " '103': 0.7512698540675643,\n",
       " '107': 0.7913764510779436,\n",
       " '110': 0.7517385839966485,\n",
       " '116': 0.7435816960642772,\n",
       " '119': 0.7289160127869805,\n",
       " '120': 0.7214070351758795,\n",
       " '121': 0.721716378859236,\n",
       " '128': 0.7809803100125681,\n",
       " '131': 0.7660608622147084,\n",
       " '132': 0.7772841193893826,\n",
       " '134': 0.7530097385169849,\n",
       " '136': 0.7964857067925518,\n",
       " '138': 0.7623821636989376,\n",
       " '139': 0.8169467787114846,\n",
       " '141': 0.7324025974025974,\n",
       " '149': 0.7382144544166273,\n",
       " '151': 0.7963585434173669,\n",
       " '153': 0.770718891807977,\n",
       " '154': 0.7593167701863354,\n",
       " '158': 0.7470936303515489,\n",
       " '160': 0.7664994825252767,\n",
       " '165': 0.7928571428571428,\n",
       " '166': 0.752751572327044,\n",
       " '167': 0.748792270531401,\n",
       " '169': 0.7628613424791769,\n",
       " '170': 0.7654796816087138,\n",
       " '171': 0.7628881987577639,\n",
       " '175': 0.7557485525227461,\n",
       " '183': 0.7485029940119761,\n",
       " '186': 0.7672747374239911,\n",
       " '187': 0.8095238095238095,\n",
       " '191': 0.7414334879545115,\n",
       " '194': 0.7495847451996545,\n",
       " '197': 0.7337611167398401,\n",
       " '204': 0.7901098901098901,\n",
       " '208': 0.7519409937888198,\n",
       " '211': 0.7573779409764722,\n",
       " '1': 0.753461486758973,\n",
       " '2': 0.7662730278696268,\n",
       " '3': 0.7624638896654552,\n",
       " '4': 0.7945080091533181,\n",
       " '6': 0.7803131991051454,\n",
       " '8': 0.7503366751458925,\n",
       " '10': 0.804258064516129,\n",
       " '12': 0.7192256539086744,\n",
       " '17': 0.7376448687924098,\n",
       " '18': 0.774074074074074,\n",
       " '19': 0.725544227059796,\n",
       " '20': 0.784733893557423,\n",
       " '21': 0.7540832758224063,\n",
       " '23': 0.7488505747126437,\n",
       " '24': 0.7908836465413834,\n",
       " '25': 0.7550442913385826,\n",
       " '29': 0.7859198355601233,\n",
       " '30': 0.7338686954071569,\n",
       " '33': 0.7592971294402787,\n",
       " '35': 0.7993774151996565,\n",
       " '36': 0.7408556381213477,\n",
       " '37': 0.7255392912172574,\n",
       " '39': 0.7302728861406103,\n",
       " '40': 0.752744030163385,\n",
       " '41': 0.7288548348776431,\n",
       " '42': 0.7245790155440415,\n",
       " '45': 0.7474058926001667,\n",
       " '46': 0.7587608312245994,\n",
       " '47': 0.7814057172829793,\n",
       " '50': 0.7379084967320262,\n",
       " '51': 0.7179078527962909,\n",
       " '52': 0.7357352325094261,\n",
       " '59': 0.7631652661064425,\n",
       " '60': 0.7548696433922685,\n",
       " '62': 0.7388931689779148,\n",
       " '66': 0.7423890527901575,\n",
       " '68': 0.7618286018925763,\n",
       " '70': 0.782370820668693,\n",
       " '73': 0.7941176470588235,\n",
       " '76': 0.7232353934481595,\n",
       " '78': 0.7828697850821744,\n",
       " '79': 0.796163469557965,\n",
       " '82': 0.7729885057471264,\n",
       " '84': 0.7888157894736842,\n",
       " '91': 0.7610648374979585,\n",
       " '95': 0.7316067947646895,\n",
       " '98': 0.7531914893617021,\n",
       " '100': 0.7475673122342938,\n",
       " '101': 0.7413422498208742,\n",
       " '102': 0.7372621240024555,\n",
       " '104': 0.7447281650180201,\n",
       " '105': 0.7673143594291704,\n",
       " '106': 0.7537334460411383,\n",
       " '108': 0.7861438815637289,\n",
       " '111': 0.7850322580645162,\n",
       " '112': 0.7569065343258892,\n",
       " '113': 0.7696533812805914,\n",
       " '114': 0.7723970944309927,\n",
       " '115': 0.7576308414754223,\n",
       " '117': 0.8008995502248876,\n",
       " '122': 0.7935461485079806,\n",
       " '123': 0.7597350993377483,\n",
       " '124': 0.752652576181988,\n",
       " '127': 0.7528563760447818,\n",
       " '129': 0.7681603773584905,\n",
       " '133': 0.7201988487702773,\n",
       " '135': 0.7242538881883144,\n",
       " '140': 0.7459770114942529,\n",
       " '143': 0.7576988879384089,\n",
       " '144': 0.7689483346446367,\n",
       " '150': 0.731996855345912,\n",
       " '152': 0.7388792203271841,\n",
       " '155': 0.7399113082039911,\n",
       " '156': 0.7794331395348837,\n",
       " '157': 0.7630022075055187,\n",
       " '159': 0.7598039215686274,\n",
       " '161': 0.7495302013422819,\n",
       " '162': 0.7512886597938144,\n",
       " '168': 0.7598473796431376,\n",
       " '174': 0.743108504398827,\n",
       " '176': 0.727899150686395,\n",
       " '177': 0.7485714285714286,\n",
       " '180': 0.7638984740434016,\n",
       " '184': 0.7333076527991782,\n",
       " '189': 0.7461352332302729,\n",
       " '192': 0.7564383275987905,\n",
       " '193': 0.7426575420587397,\n",
       " '196': 0.7679594828735172,\n",
       " '199': 0.7730496453900709,\n",
       " '200': 0.7377868666212225,\n",
       " '201': 0.7271592775041051,\n",
       " '202': 0.7623093681917211,\n",
       " '203': 0.7264879916463627,\n",
       " '205': 0.7405739514348786,\n",
       " '206': 0.7490138067061144,\n",
       " '209': 0.7790697674418605,\n",
       " '5': 0.7705325260052787,\n",
       " '54': 0.7845218352681039,\n",
       " '57': 0.7297758561838662,\n",
       " '92': 0.731381612737545,\n",
       " '94': 0.745067087608524,\n",
       " '130': 0.7751817237798546,\n",
       " '137': 0.7144906743185079,\n",
       " '142': 0.7412838545563369,\n",
       " '145': 0.7589338765809354,\n",
       " '163': 0.7570589879787532,\n",
       " '164': 0.7234177616961849,\n",
       " '173': 0.7349887681379395,\n",
       " '179': 0.7514751552795031,\n",
       " '182': 0.758685930512556,\n",
       " '210': 0.7786357786357786,\n",
       " '16': 0.7851239669421488,\n",
       " '22': 0.7740903638544582,\n",
       " '27': 0.7477262693156733,\n",
       " '49': 0.7608796943434908,\n",
       " '53': 0.7848535102266445,\n",
       " '58': 0.7644780349551252,\n",
       " '65': 0.7185078909612626,\n",
       " '69': 0.7652910469811878,\n",
       " '77': 0.7436910424897202,\n",
       " '80': 0.7429214929214929,\n",
       " '96': 0.7520215633423181,\n",
       " '97': 0.7683870967741936,\n",
       " '109': 0.7430939226519337,\n",
       " '146': 0.7962962962962963,\n",
       " '147': 0.8216142270861833,\n",
       " '172': 0.7390520164490296,\n",
       " '185': 0.7153888582460011,\n",
       " '190': 0.786692759295499,\n",
       " '207': 0.7816849816849817,\n",
       " '9': 0.7468528509467893,\n",
       " '87': 0.7806189352216103,\n",
       " '118': 0.7926898914905768,\n",
       " '195': 0.8059925093632959,\n",
       " '178': 0.7679503594996553,\n",
       " '34': 0.7669994128009395,\n",
       " '67': 0.8062271062271062,\n",
       " '85': 0.7623617219778756,\n",
       " '126': 0.7095522388059702,\n",
       " '181': 0.744830720290843,\n",
       " '188': 0.7818984547461368,\n",
       " '198': 0.7753501400560224,\n",
       " '212': 0.72825725865391,\n",
       " '56': 0.765702479338843,\n",
       " '125': 0.7724959518852649,\n",
       " '148': 0.764290693621471}"
      ]
     },
     "execution_count": 6,
     "metadata": {},
     "output_type": "execute_result"
    }
   ],
   "source": [
    "clust_dict = nx.clustering(G)\n",
    "clust_dict"
   ]
  },
  {
   "cell_type": "code",
   "execution_count": 7,
   "metadata": {
    "id": "1YYPQDnrYisp",
    "outputId": "3f2ec612-1a45-454b-cd33-e90fa1a525d2"
   },
   "outputs": [
    {
     "data": {
      "image/png": "[encoded data removed]",
      "text/plain": [
       "<Figure size 432x288 with 1 Axes>"
      ]
     },
     "metadata": {
      "needs_background": "light"
     },
     "output_type": "display_data"
    }
   ],
   "source": [
    "a=plt.hist(clust_dict.values(), bins=100, log=True)\n",
    "plt.xlabel('C', fontsize=14)\n",
    "plt.ylabel(r'$\\rho(C)$', fontsize=14)\n",
    "plt.show()"
   ]
  },
  {
   "cell_type": "code",
   "execution_count": 8,
   "metadata": {
    "id": "CkikUZh-Yisq",
    "outputId": "11e14f8f-127c-45e9-869e-d619562e7db3"
   },
   "outputs": [
    {
     "name": "stdout",
     "output_type": "stream",
     "text": [
      "0.7582617796845521\n"
     ]
    }
   ],
   "source": [
    "print(nx.average_clustering(G)) #в среднем 0.758"
   ]
  },
  {
   "cell_type": "code",
   "execution_count": 9,
   "metadata": {
    "id": "_9_XsT8HYisr",
    "outputId": "f676fbfa-b14d-40a7-bcee-cbe0e80b3e61"
   },
   "outputs": [
    {
     "data": {
      "text/plain": [
       "Text(0, 0.5, 'C')"
      ]
     },
     "execution_count": 9,
     "metadata": {},
     "output_type": "execute_result"
    },
    {
     "data": {
      "image/png": "[encoded data removed]",
      "text/plain": [
       "<Figure size 432x288 with 1 Axes>"
      ]
     },
     "metadata": {
      "needs_background": "light"
     },
     "output_type": "display_data"
    }
   ],
   "source": [
    "b = plt.boxplot(clust_dict.values())\n",
    "plt.ylabel('C', fontsize=14) #нулевых и единичных значений нет"
   ]
  },
  {
   "cell_type": "code",
   "execution_count": 10,
   "metadata": {
    "id": "xPa_YqsIYisr",
    "outputId": "c3550bba-d4b3-4b01-ae1e-04bb285ddbe9"
   },
   "outputs": [
    {
     "data": {
      "text/plain": [
       "-0.8253383119419977"
      ]
     },
     "execution_count": 10,
     "metadata": {},
     "output_type": "execute_result"
    }
   ],
   "source": [
    "np.corrcoef(degrees, list(clust_dict.values()))[0][1] #коэффициент корреляции Пирсона"
   ]
  },
  {
   "cell_type": "code",
   "execution_count": 11,
   "metadata": {
    "id": "vHxBqLA8Yisr",
    "outputId": "eb997685-4722-4650-c7fd-03d84626c362"
   },
   "outputs": [
    {
     "name": "stdout",
     "output_type": "stream",
     "text": [
      "True\n"
     ]
    }
   ],
   "source": [
    "print(nx.is_connected(G))"
   ]
  },
  {
   "cell_type": "code",
   "execution_count": 12,
   "metadata": {
    "id": "dDA29kLLYiss",
    "outputId": "0970be12-aae2-41a5-8a2a-6f6591f9a776"
   },
   "outputs": [
    {
     "data": {
      "text/plain": [
       "[213]"
      ]
     },
     "execution_count": 12,
     "metadata": {},
     "output_type": "execute_result"
    }
   ],
   "source": [
    "scc = [len(c) for c in sorted(nx.connected_components(G), key=len, reverse=True)]\n",
    "scc\n",
    "#граф связный, поэтому длина максимальной компоненты 213"
   ]
  },
  {
   "cell_type": "code",
   "execution_count": 13,
   "metadata": {
    "id": "h6PVU0zvYiss"
   },
   "outputs": [],
   "source": [
    "eps = 0.05\n",
    "G_copy = G.copy()\n",
    "n = int(eps * G.number_of_edges())\n",
    "local_efficiency = []\n",
    "local_efficiency.append(nx.local_efficiency(G))\n",
    "\n",
    "for i in range(10):\n",
    "    edges_num = G_copy.number_of_edges()\n",
    "    remove_edges_ind = random.choices(np.arange(0, edges_num), k=n)\n",
    "    remove_edges = [list(G_copy.edges)[edge_index] for edge_index in remove_edges_ind]\n",
    "    G_copy.remove_edges_from(remove_edges)\n",
    "    local_efficiency.append(nx.local_efficiency(G_copy))"
   ]
  },
  {
   "cell_type": "code",
   "execution_count": 14,
   "metadata": {
    "id": "83Uti6TzYiss",
    "outputId": "d6a69d95-e2d7-465d-ecd9-0ad0004ef827"
   },
   "outputs": [
    {
     "data": {
      "image/png": "[encoded data removed]",
      "text/plain": [
       "<Figure size 432x288 with 1 Axes>"
      ]
     },
     "metadata": {
      "needs_background": "light"
     },
     "output_type": "display_data"
    }
   ],
   "source": [
    "plt.plot(np.linspace(0,10*eps,11), local_efficiency,'o--')\n",
    "plt.xlabel('fraction of removed edges')\n",
    "plt.ylabel('local efficiency')\n",
    "plt.show()"
   ]
  },
  {
   "cell_type": "markdown",
   "metadata": {
    "id": "YT3ji90FPlR0"
   },
   "source": [
    "*  Распределение степеней и какому закону подчиняется, оценка параметров распределения.\n",
    "\n",
    "*  Коэффициент ассортативности сети. \n",
    "\n",
    "*  Функция корреляции степеней.\n",
    "\n",
    "* Функция разложения сети по k-core. "
   ]
  },
  {
   "cell_type": "code",
   "execution_count": 15,
   "metadata": {
    "id": "Y3W-Lu5cQDvs",
    "outputId": "9a57360e-bb46-4a6c-adaa-976f28c00d7d"
   },
   "outputs": [
    {
     "data": {
      "image/png": "[encoded data removed]",
      "text/plain": [
       "<Figure size 432x288 with 1 Axes>"
      ]
     },
     "metadata": {
      "needs_background": "light"
     },
     "output_type": "display_data"
    }
   ],
   "source": [
    "a=plt.hist(degrees, bins=40, log=True)\n",
    "plt.xlabel('k', fontsize=14)\n",
    "plt.ylabel(r'$\\rho(k)$', fontsize=14)\n",
    "plt.show()"
   ]
  },
  {
   "cell_type": "code",
   "execution_count": 16,
   "metadata": {
    "id": "bD9yWByEYist",
    "outputId": "c199846a-0923-4a15-f36f-a743f4ae7b8b"
   },
   "outputs": [
    {
     "name": "stdout",
     "output_type": "stream",
     "text": [
      "Calculating best minimal value for power law fit\n",
      "Alpha =  7.520286606145777\n",
      "Xmin =  144.0\n"
     ]
    }
   ],
   "source": [
    "fit = powerlaw.Fit(degrees, discrete=True)\n",
    "print('Alpha = ', fit.power_law.alpha)\n",
    "print('Xmin = ', fit.power_law.xmin)"
   ]
  },
  {
   "cell_type": "code",
   "execution_count": 17,
   "metadata": {
    "id": "CgeT6Lf6Yisu",
    "outputId": "fe381ac6-9cd3-439c-e926-5399d9ae68ae"
   },
   "outputs": [
    {
     "name": "stdout",
     "output_type": "stream",
     "text": [
      "-0.06271067682220238\n"
     ]
    }
   ],
   "source": [
    "print(nx.degree_assortativity_coefficient(G))"
   ]
  },
  {
   "cell_type": "code",
   "execution_count": 18,
   "metadata": {
    "id": "BTmLpOxqYisu"
   },
   "outputs": [],
   "source": [
    "G_copy=G.remove_edges_from(nx.selfloop_edges(G))"
   ]
  },
  {
   "cell_type": "code",
   "execution_count": 20,
   "metadata": {
    "id": "x2bu2bWsYisv"
   },
   "outputs": [],
   "source": [
    "k = np.arange(1, max(degrees))"
   ]
  },
  {
   "cell_type": "code",
   "execution_count": 21,
   "metadata": {
    "id": "XUXHzcA7Yisv"
   },
   "outputs": [],
   "source": [
    "kG_lst = []\n",
    "\n",
    "for degree in k[:50]:\n",
    "    kG=nx.k_core(G,k=degree)\n",
    "    kG_lst.append(len(kG.nodes()) / len(nodes))"
   ]
  },
  {
   "cell_type": "code",
   "execution_count": 22,
   "metadata": {
    "id": "DCw3teloYisv",
    "outputId": "02d9de89-6adb-4a1c-eaa3-9c888de1b5c8"
   },
   "outputs": [
    {
     "data": {
      "image/png": "[encoded data removed]",
      "text/plain": [
       "<Figure size 432x288 with 1 Axes>"
      ]
     },
     "metadata": {
      "needs_background": "light"
     },
     "output_type": "display_data"
    }
   ],
   "source": [
    "plt.plot(k[:50], kG_lst)\n",
    "plt.xlabel('k', fontsize=14)\n",
    "plt.ylabel('Разложение сети по k-core', fontsize=14)\n",
    "plt.show()"
   ]
  },
  {
   "cell_type": "markdown",
   "metadata": {
    "id": "Zn3tUlrDQEAO"
   },
   "source": [
    "### Моделирование и рандомизация \n",
    "\n",
    "\n",
    "* Для произвольной (неслучайной) сети подобраны параметры моделей Эрдеша-Реньи, Барабаши-Альберта. Построены соответсвующие случайные сети и определено какая из моделей лучше описывает тут или иную характеристику сети. \n",
    "\n",
    "* Построена конфигурационную модель для выбранной сети.\n",
    "\n",
    "* Написана функция, осуществляющая заданное число шагов $Q$ рандомизации. \n",
    "\n",
    "* Построена зависимость сетевых характеристик от числа рандомизиции $f$.  "
   ]
  },
  {
   "cell_type": "markdown",
   "metadata": {
    "id": "5uXuyErSYisw"
   },
   "source": [
    "модель Барабаши-Альберта"
   ]
  },
  {
   "cell_type": "code",
   "execution_count": 23,
   "metadata": {
    "id": "chChjXDHQJV-",
    "outputId": "dc9490cc-7508-4a0e-f4e7-2040a30be462"
   },
   "outputs": [
    {
     "data": {
      "text/plain": [
       "75.53521126760563"
      ]
     },
     "execution_count": 23,
     "metadata": {},
     "output_type": "execute_result"
    }
   ],
   "source": [
    "k = G.number_of_edges() / G.number_of_nodes()\n",
    "k"
   ]
  },
  {
   "cell_type": "code",
   "execution_count": 24,
   "metadata": {
    "id": "kiEVKzjpYisw"
   },
   "outputs": [],
   "source": [
    "gnm = nx.gnm_random_graph(G.number_of_nodes(), G.number_of_edges())\n",
    "ba = nx.barabasi_albert_graph(G.number_of_nodes(), int(k) + 1)"
   ]
  },
  {
   "cell_type": "code",
   "execution_count": 25,
   "metadata": {
    "id": "B_aYMbIrYisw",
    "outputId": "ad27ae5c-92f4-40af-de87-01dedb1931f4"
   },
   "outputs": [
    {
     "name": "stdout",
     "output_type": "stream",
     "text": [
      "GNM Number of nodes =  213 Number of edges =  16089\n",
      "BA Number of nodes =  213 Number of edges =  10412\n"
     ]
    }
   ],
   "source": [
    "print('GNM Number of nodes = ', gnm.number_of_nodes(), 'Number of edges = ', gnm.number_of_edges())\n",
    "print('BA Number of nodes = ', ba.number_of_nodes(), 'Number of edges = ', ba.number_of_edges())"
   ]
  },
  {
   "cell_type": "code",
   "execution_count": 26,
   "metadata": {
    "id": "L4oOoxFGYisw",
    "outputId": "c2692f1d-a1db-4f62-8d6e-22c07a70770e"
   },
   "outputs": [
    {
     "name": "stdout",
     "output_type": "stream",
     "text": [
      "G Average degree = 152.50704225352112\n",
      "GNM Average degree = 151.07042253521126\n",
      "BA Average degree = 97.76525821596245\n"
     ]
    }
   ],
   "source": [
    "degrees_gnm = [d for node, d in gnm.degree()]\n",
    "degrees_ba = [d for node, d in ba.degree()]\n",
    "print('G Average degree =',np.mean(degrees))\n",
    "print('GNM Average degree =',np.mean(degrees_gnm))\n",
    "print('BA Average degree =',np.mean(degrees_ba))"
   ]
  },
  {
   "cell_type": "code",
   "execution_count": 29,
   "metadata": {
    "id": "Umxnj-lsYisw"
   },
   "outputs": [],
   "source": [
    "def network_spec(G):\n",
    "    clust = round(nx.average_clustering(G), 3)\n",
    "    transitiv = round(nx.transitivity(G), 3)\n",
    "    assort_coef = round(nx.degree_assortativity_coefficient(G), 3)\n",
    "    return clust, transitiv, assort_coef"
   ]
  },
  {
   "cell_type": "code",
   "execution_count": 30,
   "metadata": {
    "id": "Uv2j7DDwYisx",
    "outputId": "9063a943-490e-4524-dd5f-d6c0efa14d01",
    "scrolled": true
   },
   "outputs": [
    {
     "name": "stdout",
     "output_type": "stream",
     "text": [
      "     Clustering  Transitivity  Degree_assortativity_coefficient\n",
      "G         0.758         0.752                            -0.067\n",
      "GNM       0.712         0.712                            -0.011\n",
      "BA        0.600         0.548                            -0.233\n"
     ]
    }
   ],
   "source": [
    "spec = [network_spec(G), network_spec(gnm), network_spec(ba)]\n",
    "print(pd.DataFrame(spec, columns = ['Clustering', 'Transitivity', 'Degree_assortativity_coefficient'], index = ['G', 'GNM', 'BA']))"
   ]
  },
  {
   "cell_type": "markdown",
   "metadata": {
    "id": "4uAHLNEbYisx"
   },
   "source": [
    "Конфигурационная модель"
   ]
  }
 ],
 "metadata": {
  "colab": {
   "provenance": []
  },
  "kernelspec": {
   "display_name": "Python 3 (ipykernel)",
   "language": "python",
   "name": "python3"
  },
  "language_info": {
   "codemirror_mode": {
    "name": "ipython",
    "version": 3
   },
   "file_extension": ".py",
   "mimetype": "text/x-python",
   "name": "python",
   "nbconvert_exporter": "python",
   "pygments_lexer": "ipython3",
   "version": "3.9.12"
  }
 },
 "nbformat": 4,
 "nbformat_minor": 1
}
